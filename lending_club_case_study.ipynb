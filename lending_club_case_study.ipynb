{
 "cells": [
  {
   "cell_type": "markdown",
   "id": "7b6de8e0",
   "metadata": {},
   "source": [
    "# Step 1: Sanity check and data Cleaning"
   ]
  },
  {
   "cell_type": "code",
   "execution_count": 51,
   "id": "cb491881",
   "metadata": {},
   "outputs": [],
   "source": [
    "# import the libraries\n",
    "import pandas as pd\n",
    "import numpy as np\n",
    "import seaborn as sns\n",
    "import matplotlib.pyplot as plt"
   ]
  },
  {
   "cell_type": "code",
   "execution_count": 52,
   "id": "b4034347",
   "metadata": {},
   "outputs": [
    {
     "data": {
      "text/html": [
       "<div>\n",
       "<style scoped>\n",
       "    .dataframe tbody tr th:only-of-type {\n",
       "        vertical-align: middle;\n",
       "    }\n",
       "\n",
       "    .dataframe tbody tr th {\n",
       "        vertical-align: top;\n",
       "    }\n",
       "\n",
       "    .dataframe thead th {\n",
       "        text-align: right;\n",
       "    }\n",
       "</style>\n",
       "<table border=\"1\" class=\"dataframe\">\n",
       "  <thead>\n",
       "    <tr style=\"text-align: right;\">\n",
       "      <th></th>\n",
       "      <th>id</th>\n",
       "      <th>member_id</th>\n",
       "      <th>loan_amnt</th>\n",
       "      <th>funded_amnt</th>\n",
       "      <th>funded_amnt_inv</th>\n",
       "      <th>term</th>\n",
       "      <th>int_rate</th>\n",
       "      <th>installment</th>\n",
       "      <th>grade</th>\n",
       "      <th>sub_grade</th>\n",
       "      <th>...</th>\n",
       "      <th>num_tl_90g_dpd_24m</th>\n",
       "      <th>num_tl_op_past_12m</th>\n",
       "      <th>pct_tl_nvr_dlq</th>\n",
       "      <th>percent_bc_gt_75</th>\n",
       "      <th>pub_rec_bankruptcies</th>\n",
       "      <th>tax_liens</th>\n",
       "      <th>tot_hi_cred_lim</th>\n",
       "      <th>total_bal_ex_mort</th>\n",
       "      <th>total_bc_limit</th>\n",
       "      <th>total_il_high_credit_limit</th>\n",
       "    </tr>\n",
       "  </thead>\n",
       "  <tbody>\n",
       "    <tr>\n",
       "      <th>0</th>\n",
       "      <td>1077501</td>\n",
       "      <td>1296599</td>\n",
       "      <td>5000</td>\n",
       "      <td>5000</td>\n",
       "      <td>4975.0</td>\n",
       "      <td>36 months</td>\n",
       "      <td>10.65%</td>\n",
       "      <td>162.87</td>\n",
       "      <td>B</td>\n",
       "      <td>B2</td>\n",
       "      <td>...</td>\n",
       "      <td>NaN</td>\n",
       "      <td>NaN</td>\n",
       "      <td>NaN</td>\n",
       "      <td>NaN</td>\n",
       "      <td>0.0</td>\n",
       "      <td>0.0</td>\n",
       "      <td>NaN</td>\n",
       "      <td>NaN</td>\n",
       "      <td>NaN</td>\n",
       "      <td>NaN</td>\n",
       "    </tr>\n",
       "    <tr>\n",
       "      <th>1</th>\n",
       "      <td>1077430</td>\n",
       "      <td>1314167</td>\n",
       "      <td>2500</td>\n",
       "      <td>2500</td>\n",
       "      <td>2500.0</td>\n",
       "      <td>60 months</td>\n",
       "      <td>15.27%</td>\n",
       "      <td>59.83</td>\n",
       "      <td>C</td>\n",
       "      <td>C4</td>\n",
       "      <td>...</td>\n",
       "      <td>NaN</td>\n",
       "      <td>NaN</td>\n",
       "      <td>NaN</td>\n",
       "      <td>NaN</td>\n",
       "      <td>0.0</td>\n",
       "      <td>0.0</td>\n",
       "      <td>NaN</td>\n",
       "      <td>NaN</td>\n",
       "      <td>NaN</td>\n",
       "      <td>NaN</td>\n",
       "    </tr>\n",
       "    <tr>\n",
       "      <th>2</th>\n",
       "      <td>1077175</td>\n",
       "      <td>1313524</td>\n",
       "      <td>2400</td>\n",
       "      <td>2400</td>\n",
       "      <td>2400.0</td>\n",
       "      <td>36 months</td>\n",
       "      <td>15.96%</td>\n",
       "      <td>84.33</td>\n",
       "      <td>C</td>\n",
       "      <td>C5</td>\n",
       "      <td>...</td>\n",
       "      <td>NaN</td>\n",
       "      <td>NaN</td>\n",
       "      <td>NaN</td>\n",
       "      <td>NaN</td>\n",
       "      <td>0.0</td>\n",
       "      <td>0.0</td>\n",
       "      <td>NaN</td>\n",
       "      <td>NaN</td>\n",
       "      <td>NaN</td>\n",
       "      <td>NaN</td>\n",
       "    </tr>\n",
       "    <tr>\n",
       "      <th>3</th>\n",
       "      <td>1076863</td>\n",
       "      <td>1277178</td>\n",
       "      <td>10000</td>\n",
       "      <td>10000</td>\n",
       "      <td>10000.0</td>\n",
       "      <td>36 months</td>\n",
       "      <td>13.49%</td>\n",
       "      <td>339.31</td>\n",
       "      <td>C</td>\n",
       "      <td>C1</td>\n",
       "      <td>...</td>\n",
       "      <td>NaN</td>\n",
       "      <td>NaN</td>\n",
       "      <td>NaN</td>\n",
       "      <td>NaN</td>\n",
       "      <td>0.0</td>\n",
       "      <td>0.0</td>\n",
       "      <td>NaN</td>\n",
       "      <td>NaN</td>\n",
       "      <td>NaN</td>\n",
       "      <td>NaN</td>\n",
       "    </tr>\n",
       "    <tr>\n",
       "      <th>4</th>\n",
       "      <td>1075358</td>\n",
       "      <td>1311748</td>\n",
       "      <td>3000</td>\n",
       "      <td>3000</td>\n",
       "      <td>3000.0</td>\n",
       "      <td>60 months</td>\n",
       "      <td>12.69%</td>\n",
       "      <td>67.79</td>\n",
       "      <td>B</td>\n",
       "      <td>B5</td>\n",
       "      <td>...</td>\n",
       "      <td>NaN</td>\n",
       "      <td>NaN</td>\n",
       "      <td>NaN</td>\n",
       "      <td>NaN</td>\n",
       "      <td>0.0</td>\n",
       "      <td>0.0</td>\n",
       "      <td>NaN</td>\n",
       "      <td>NaN</td>\n",
       "      <td>NaN</td>\n",
       "      <td>NaN</td>\n",
       "    </tr>\n",
       "  </tbody>\n",
       "</table>\n",
       "<p>5 rows × 111 columns</p>\n",
       "</div>"
      ],
      "text/plain": [
       "        id  member_id  loan_amnt  funded_amnt  funded_amnt_inv        term  \\\n",
       "0  1077501    1296599       5000         5000           4975.0   36 months   \n",
       "1  1077430    1314167       2500         2500           2500.0   60 months   \n",
       "2  1077175    1313524       2400         2400           2400.0   36 months   \n",
       "3  1076863    1277178      10000        10000          10000.0   36 months   \n",
       "4  1075358    1311748       3000         3000           3000.0   60 months   \n",
       "\n",
       "  int_rate  installment grade sub_grade  ... num_tl_90g_dpd_24m  \\\n",
       "0   10.65%       162.87     B        B2  ...                NaN   \n",
       "1   15.27%        59.83     C        C4  ...                NaN   \n",
       "2   15.96%        84.33     C        C5  ...                NaN   \n",
       "3   13.49%       339.31     C        C1  ...                NaN   \n",
       "4   12.69%        67.79     B        B5  ...                NaN   \n",
       "\n",
       "  num_tl_op_past_12m pct_tl_nvr_dlq  percent_bc_gt_75 pub_rec_bankruptcies  \\\n",
       "0                NaN            NaN               NaN                  0.0   \n",
       "1                NaN            NaN               NaN                  0.0   \n",
       "2                NaN            NaN               NaN                  0.0   \n",
       "3                NaN            NaN               NaN                  0.0   \n",
       "4                NaN            NaN               NaN                  0.0   \n",
       "\n",
       "  tax_liens tot_hi_cred_lim total_bal_ex_mort total_bc_limit  \\\n",
       "0       0.0             NaN               NaN            NaN   \n",
       "1       0.0             NaN               NaN            NaN   \n",
       "2       0.0             NaN               NaN            NaN   \n",
       "3       0.0             NaN               NaN            NaN   \n",
       "4       0.0             NaN               NaN            NaN   \n",
       "\n",
       "  total_il_high_credit_limit  \n",
       "0                        NaN  \n",
       "1                        NaN  \n",
       "2                        NaN  \n",
       "3                        NaN  \n",
       "4                        NaN  \n",
       "\n",
       "[5 rows x 111 columns]"
      ]
     },
     "execution_count": 52,
     "metadata": {},
     "output_type": "execute_result"
    }
   ],
   "source": [
    "# read the csv file from current directory\n",
    "df = pd.read_csv(\"loan.csv\", low_memory=False)\n",
    "\n",
    "# view first 5 rows \n",
    "df.head()"
   ]
  },
  {
   "cell_type": "code",
   "execution_count": 53,
   "id": "6d8a7626",
   "metadata": {},
   "outputs": [
    {
     "name": "stdout",
     "output_type": "stream",
     "text": [
      "<class 'pandas.core.frame.DataFrame'>\n",
      "RangeIndex: 39717 entries, 0 to 39716\n",
      "Columns: 111 entries, id to total_il_high_credit_limit\n",
      "dtypes: float64(74), int64(13), object(24)\n",
      "memory usage: 33.6+ MB\n"
     ]
    }
   ],
   "source": [
    "df.info()"
   ]
  },
  {
   "cell_type": "code",
   "execution_count": 54,
   "id": "7411981b",
   "metadata": {},
   "outputs": [
    {
     "data": {
      "text/plain": [
       "id                                0\n",
       "member_id                         0\n",
       "loan_amnt                         0\n",
       "funded_amnt                       0\n",
       "funded_amnt_inv                   0\n",
       "                              ...  \n",
       "tax_liens                        39\n",
       "tot_hi_cred_lim               39717\n",
       "total_bal_ex_mort             39717\n",
       "total_bc_limit                39717\n",
       "total_il_high_credit_limit    39717\n",
       "Length: 111, dtype: int64"
      ]
     },
     "execution_count": 54,
     "metadata": {},
     "output_type": "execute_result"
    }
   ],
   "source": [
    "# analyse the null values in each column\n",
    "df.isnull().sum()"
   ]
  },
  {
   "cell_type": "code",
   "execution_count": 55,
   "id": "b4dc5354",
   "metadata": {},
   "outputs": [],
   "source": [
    "df.loc[df[\"last_credit_pull_d\"].isnull(), (\"last_credit_pull_d\")] = df.loc[df[\"last_credit_pull_d\"].isnull(), (\"last_pymnt_d\")]"
   ]
  },
  {
   "cell_type": "code",
   "execution_count": 56,
   "id": "d4ad7452",
   "metadata": {},
   "outputs": [
    {
     "data": {
      "text/plain": [
       "id                                0\n",
       "member_id                         0\n",
       "loan_amnt                         0\n",
       "funded_amnt                       0\n",
       "funded_amnt_inv                   0\n",
       "term                              0\n",
       "int_rate                          0\n",
       "installment                       0\n",
       "grade                             0\n",
       "sub_grade                         0\n",
       "emp_title                      2459\n",
       "emp_length                     1075\n",
       "home_ownership                    0\n",
       "annual_inc                        0\n",
       "verification_status               0\n",
       "issue_d                           0\n",
       "loan_status                       0\n",
       "pymnt_plan                        0\n",
       "url                               0\n",
       "desc                          12940\n",
       "purpose                           0\n",
       "title                            11\n",
       "zip_code                          0\n",
       "addr_state                        0\n",
       "dti                               0\n",
       "delinq_2yrs                       0\n",
       "earliest_cr_line                  0\n",
       "inq_last_6mths                    0\n",
       "mths_since_last_delinq        25682\n",
       "mths_since_last_record        36931\n",
       "open_acc                          0\n",
       "pub_rec                           0\n",
       "revol_bal                         0\n",
       "revol_util                       50\n",
       "total_acc                         0\n",
       "initial_list_status               0\n",
       "out_prncp                         0\n",
       "out_prncp_inv                     0\n",
       "total_pymnt                       0\n",
       "total_pymnt_inv                   0\n",
       "total_rec_prncp                   0\n",
       "total_rec_int                     0\n",
       "total_rec_late_fee                0\n",
       "recoveries                        0\n",
       "collection_recovery_fee           0\n",
       "last_pymnt_d                     71\n",
       "last_pymnt_amnt                   0\n",
       "next_pymnt_d                  38577\n",
       "last_credit_pull_d                0\n",
       "collections_12_mths_ex_med       56\n",
       "policy_code                       0\n",
       "application_type                  0\n",
       "acc_now_delinq                    0\n",
       "chargeoff_within_12_mths         56\n",
       "delinq_amnt                       0\n",
       "pub_rec_bankruptcies            697\n",
       "tax_liens                        39\n",
       "dtype: int64"
      ]
     },
     "execution_count": 56,
     "metadata": {},
     "output_type": "execute_result"
    }
   ],
   "source": [
    "# from the above stats we can say that there columns with all null values, therefore, let's drop those columns\n",
    "df1 = df.drop(df.columns[df.isnull().sum()==len(df.index)], axis=1)\n",
    "df1.isnull().sum()"
   ]
  },
  {
   "attachments": {},
   "cell_type": "markdown",
   "id": "22fa162c",
   "metadata": {},
   "source": [
    "Following Columns are not going to be considered for analysis and hence will be dropped. \n",
    "Columns Removed\n",
    "acc_now_delinq\n",
    "acc_open_past_24mths\n",
    "all_util\n",
    "annual_inc_joint\n",
    "application_type\n",
    "avg_cur_bal\n",
    "bc_open_to_buy\n",
    "bc_util\n",
    "chargeoff_within_12_mths\n",
    "collections_12_mths_ex_med\n",
    "delinq_amnt\n",
    "dti_joint\n",
    "il_util\n",
    "initial_list_status\n",
    "inq_fi\n",
    "inq_last_12m\n",
    "last_pymnt_amnt\n",
    "last_pymnt_d\n",
    "max_bal_bc\n",
    "mo_sin_old_il_acct\n",
    "mo_sin_old_rev_tl_op\n",
    "mo_sin_rcnt_rev_tl_op\n",
    "mo_sin_rcnt_tl\n",
    "mort_acc\n",
    "mths_since_last_delinq\n",
    "mths_since_last_major_derog\n",
    "mths_since_last_record\n",
    "mths_since_rcnt_il\n",
    "mths_since_recent_bc\n",
    "mths_since_recent_bc_dlq\n",
    "mths_since_recent_inq\n",
    "mths_since_recent_revol_delinq\n",
    "next_pymnt_d\n",
    "num_accts_ever_120_pd\n",
    "num_actv_bc_tl\n",
    "num_actv_rev_tl\n",
    "num_bc_sats\n",
    "num_bc_tl\n",
    "num_il_tl\n",
    "num_op_rev_tl\n",
    "num_rev_accts\n",
    "num_rev_tl_bal_gt_0\n",
    "num_sats\n",
    "num_tl_120dpd_2m\n",
    "num_tl_30dpd\n",
    "num_tl_90g_dpd_24m\n",
    "num_tl_op_past_12m\n",
    "open_acc_6m\n",
    "open_il_12m\n",
    "open_il_24m\n",
    "open_il_6m\n",
    "open_rv_12m\n",
    "open_rv_24m\n",
    "pct_tl_nvr_dlq\n",
    "percent_bc_gt_75\n",
    "policy_code\n",
    "pymnt_plan\n",
    "tax_liens\n",
    "tot_coll_amt\n",
    "tot_cur_bal\n",
    "tot_hi_cred_lim\n",
    "total_bal_ex_mort\n",
    "total_bal_il\n",
    "total_bc_limit\n",
    "total_cu_tl\n",
    "total_il_high_credit_limit\n",
    "total_rev_hi_lim\n",
    "url\n",
    "verification_status_joint\n",
    "zip_code"
   ]
  },
  {
   "cell_type": "code",
   "execution_count": 57,
   "id": "ce0a14c0",
   "metadata": {},
   "outputs": [
    {
     "data": {
      "text/plain": [
       "id                             0\n",
       "member_id                      0\n",
       "loan_amnt                      0\n",
       "funded_amnt                    0\n",
       "funded_amnt_inv                0\n",
       "term                           0\n",
       "int_rate                       0\n",
       "installment                    0\n",
       "grade                          0\n",
       "sub_grade                      0\n",
       "emp_title                   2459\n",
       "emp_length                  1075\n",
       "home_ownership                 0\n",
       "annual_inc                     0\n",
       "verification_status            0\n",
       "issue_d                        0\n",
       "loan_status                    0\n",
       "desc                       12940\n",
       "purpose                        0\n",
       "title                         11\n",
       "addr_state                     0\n",
       "dti                            0\n",
       "delinq_2yrs                    0\n",
       "earliest_cr_line               0\n",
       "inq_last_6mths                 0\n",
       "open_acc                       0\n",
       "pub_rec                        0\n",
       "revol_bal                      0\n",
       "revol_util                    50\n",
       "total_acc                      0\n",
       "out_prncp                      0\n",
       "out_prncp_inv                  0\n",
       "total_pymnt                    0\n",
       "total_pymnt_inv                0\n",
       "total_rec_prncp                0\n",
       "total_rec_int                  0\n",
       "total_rec_late_fee             0\n",
       "recoveries                     0\n",
       "collection_recovery_fee        0\n",
       "last_credit_pull_d             0\n",
       "pub_rec_bankruptcies         697\n",
       "dtype: int64"
      ]
     },
     "execution_count": 57,
     "metadata": {},
     "output_type": "execute_result"
    }
   ],
   "source": [
    "# let's choose columns which are not useful for the analysis\n",
    "df1.drop([\"mths_since_last_delinq\", \"next_pymnt_d\", \"mths_since_last_record\", \"pymnt_plan\", \"url\", \"zip_code\", \"last_pymnt_d\", \"last_pymnt_amnt\", \"initial_list_status\", \"collections_12_mths_ex_med\", \"policy_code\", \"application_type\", \"acc_now_delinq\", \"chargeoff_within_12_mths\", \"delinq_amnt\", \"tax_liens\"], inplace=True, axis=1)\n",
    "df1.isnull().sum()"
   ]
  },
  {
   "cell_type": "code",
   "execution_count": 58,
   "id": "c32bc16c",
   "metadata": {},
   "outputs": [
    {
     "data": {
      "text/plain": [
       "id                             0\n",
       "member_id                      0\n",
       "loan_amnt                      0\n",
       "funded_amnt                    0\n",
       "funded_amnt_inv                0\n",
       "term                           0\n",
       "int_rate                       0\n",
       "installment                    0\n",
       "grade                          0\n",
       "sub_grade                      0\n",
       "emp_title                   2459\n",
       "emp_length                  1075\n",
       "home_ownership                 0\n",
       "annual_inc                     0\n",
       "verification_status            0\n",
       "issue_d                        0\n",
       "loan_status                    0\n",
       "desc                       12940\n",
       "purpose                        0\n",
       "title                         11\n",
       "addr_state                     0\n",
       "dti                            0\n",
       "delinq_2yrs                    0\n",
       "earliest_cr_line               0\n",
       "inq_last_6mths                 0\n",
       "open_acc                       0\n",
       "pub_rec                        0\n",
       "revol_bal                      0\n",
       "revol_util                    50\n",
       "total_acc                      0\n",
       "out_prncp                      0\n",
       "out_prncp_inv                  0\n",
       "total_pymnt                    0\n",
       "total_pymnt_inv                0\n",
       "total_rec_prncp                0\n",
       "total_rec_int                  0\n",
       "total_rec_late_fee             0\n",
       "recoveries                     0\n",
       "collection_recovery_fee        0\n",
       "last_credit_pull_d             0\n",
       "pub_rec_bankruptcies           0\n",
       "dtype: int64"
      ]
     },
     "execution_count": 58,
     "metadata": {},
     "output_type": "execute_result"
    }
   ],
   "source": [
    "df1.loc[df[\"pub_rec_bankruptcies\"].isnull(), [\"pub_rec_bankruptcies\"]] = 0\n",
    "df1.isnull().sum()"
   ]
  },
  {
   "cell_type": "code",
   "execution_count": 59,
   "id": "3cb7f4f3",
   "metadata": {},
   "outputs": [
    {
     "data": {
      "text/plain": [
       "id                             0\n",
       "member_id                      0\n",
       "loan_amnt                      0\n",
       "funded_amnt                    0\n",
       "funded_amnt_inv                0\n",
       "term                           0\n",
       "int_rate                       0\n",
       "installment                    0\n",
       "grade                          0\n",
       "sub_grade                      0\n",
       "emp_title                   2459\n",
       "emp_length                  1075\n",
       "home_ownership                 0\n",
       "annual_inc                     0\n",
       "verification_status            0\n",
       "issue_d                        0\n",
       "loan_status                    0\n",
       "desc                       12940\n",
       "purpose                        0\n",
       "title                         11\n",
       "addr_state                     0\n",
       "dti                            0\n",
       "delinq_2yrs                    0\n",
       "earliest_cr_line               0\n",
       "inq_last_6mths                 0\n",
       "open_acc                       0\n",
       "pub_rec                        0\n",
       "revol_bal                      0\n",
       "revol_util                     0\n",
       "total_acc                      0\n",
       "out_prncp                      0\n",
       "out_prncp_inv                  0\n",
       "total_pymnt                    0\n",
       "total_pymnt_inv                0\n",
       "total_rec_prncp                0\n",
       "total_rec_int                  0\n",
       "total_rec_late_fee             0\n",
       "recoveries                     0\n",
       "collection_recovery_fee        0\n",
       "last_credit_pull_d             0\n",
       "pub_rec_bankruptcies           0\n",
       "dtype: int64"
      ]
     },
     "execution_count": 59,
     "metadata": {},
     "output_type": "execute_result"
    }
   ],
   "source": [
    "#For column revol_util, if there is blanks, replace it with 0\n",
    "df1.loc[df1[\"revol_util\"].isnull(), [\"revol_util\"]] = \"0%\"\n",
    "df1.isnull().sum()"
   ]
  },
  {
   "cell_type": "code",
   "execution_count": 60,
   "id": "8aeba2a5",
   "metadata": {},
   "outputs": [
    {
     "data": {
      "text/html": [
       "<div>\n",
       "<style scoped>\n",
       "    .dataframe tbody tr th:only-of-type {\n",
       "        vertical-align: middle;\n",
       "    }\n",
       "\n",
       "    .dataframe tbody tr th {\n",
       "        vertical-align: top;\n",
       "    }\n",
       "\n",
       "    .dataframe thead th {\n",
       "        text-align: right;\n",
       "    }\n",
       "</style>\n",
       "<table border=\"1\" class=\"dataframe\">\n",
       "  <thead>\n",
       "    <tr style=\"text-align: right;\">\n",
       "      <th></th>\n",
       "      <th>annual_inc</th>\n",
       "      <th>emp_length</th>\n",
       "    </tr>\n",
       "  </thead>\n",
       "  <tbody>\n",
       "    <tr>\n",
       "      <th>0</th>\n",
       "      <td>24000.0</td>\n",
       "      <td>10+ years</td>\n",
       "    </tr>\n",
       "    <tr>\n",
       "      <th>1</th>\n",
       "      <td>30000.0</td>\n",
       "      <td>&lt; 1 year</td>\n",
       "    </tr>\n",
       "    <tr>\n",
       "      <th>2</th>\n",
       "      <td>12252.0</td>\n",
       "      <td>10+ years</td>\n",
       "    </tr>\n",
       "    <tr>\n",
       "      <th>3</th>\n",
       "      <td>49200.0</td>\n",
       "      <td>10+ years</td>\n",
       "    </tr>\n",
       "    <tr>\n",
       "      <th>4</th>\n",
       "      <td>80000.0</td>\n",
       "      <td>1 year</td>\n",
       "    </tr>\n",
       "    <tr>\n",
       "      <th>...</th>\n",
       "      <td>...</td>\n",
       "      <td>...</td>\n",
       "    </tr>\n",
       "    <tr>\n",
       "      <th>39712</th>\n",
       "      <td>110000.0</td>\n",
       "      <td>4 years</td>\n",
       "    </tr>\n",
       "    <tr>\n",
       "      <th>39713</th>\n",
       "      <td>18000.0</td>\n",
       "      <td>3 years</td>\n",
       "    </tr>\n",
       "    <tr>\n",
       "      <th>39714</th>\n",
       "      <td>100000.0</td>\n",
       "      <td>&lt; 1 year</td>\n",
       "    </tr>\n",
       "    <tr>\n",
       "      <th>39715</th>\n",
       "      <td>200000.0</td>\n",
       "      <td>&lt; 1 year</td>\n",
       "    </tr>\n",
       "    <tr>\n",
       "      <th>39716</th>\n",
       "      <td>22000.0</td>\n",
       "      <td>&lt; 1 year</td>\n",
       "    </tr>\n",
       "  </tbody>\n",
       "</table>\n",
       "<p>39717 rows × 2 columns</p>\n",
       "</div>"
      ],
      "text/plain": [
       "       annual_inc emp_length\n",
       "0         24000.0  10+ years\n",
       "1         30000.0   < 1 year\n",
       "2         12252.0  10+ years\n",
       "3         49200.0  10+ years\n",
       "4         80000.0     1 year\n",
       "...           ...        ...\n",
       "39712    110000.0    4 years\n",
       "39713     18000.0    3 years\n",
       "39714    100000.0   < 1 year\n",
       "39715    200000.0   < 1 year\n",
       "39716     22000.0   < 1 year\n",
       "\n",
       "[39717 rows x 2 columns]"
      ]
     },
     "execution_count": 60,
     "metadata": {},
     "output_type": "execute_result"
    }
   ],
   "source": [
    "# Analyse Annual Income and Employee length for dta cleansing and outlier treatment. \n",
    "df1[[\"annual_inc\", \"emp_length\"]]"
   ]
  },
  {
   "cell_type": "code",
   "execution_count": 61,
   "id": "f30c188b",
   "metadata": {},
   "outputs": [
    {
     "name": "stdout",
     "output_type": "stream",
     "text": [
      "<class 'pandas.core.frame.DataFrame'>\n",
      "RangeIndex: 39717 entries, 0 to 39716\n",
      "Data columns (total 41 columns):\n",
      " #   Column                   Non-Null Count  Dtype  \n",
      "---  ------                   --------------  -----  \n",
      " 0   id                       39717 non-null  int64  \n",
      " 1   member_id                39717 non-null  int64  \n",
      " 2   loan_amnt                39717 non-null  int64  \n",
      " 3   funded_amnt              39717 non-null  int64  \n",
      " 4   funded_amnt_inv          39717 non-null  float64\n",
      " 5   term                     39717 non-null  object \n",
      " 6   int_rate                 39717 non-null  object \n",
      " 7   installment              39717 non-null  float64\n",
      " 8   grade                    39717 non-null  object \n",
      " 9   sub_grade                39717 non-null  object \n",
      " 10  emp_title                37258 non-null  object \n",
      " 11  emp_length               38642 non-null  object \n",
      " 12  home_ownership           39717 non-null  object \n",
      " 13  annual_inc               39717 non-null  float64\n",
      " 14  verification_status      39717 non-null  object \n",
      " 15  issue_d                  39717 non-null  object \n",
      " 16  loan_status              39717 non-null  object \n",
      " 17  desc                     26777 non-null  object \n",
      " 18  purpose                  39717 non-null  object \n",
      " 19  title                    39706 non-null  object \n",
      " 20  addr_state               39717 non-null  object \n",
      " 21  dti                      39717 non-null  float64\n",
      " 22  delinq_2yrs              39717 non-null  int64  \n",
      " 23  earliest_cr_line         39717 non-null  object \n",
      " 24  inq_last_6mths           39717 non-null  int64  \n",
      " 25  open_acc                 39717 non-null  int64  \n",
      " 26  pub_rec                  39717 non-null  int64  \n",
      " 27  revol_bal                39717 non-null  int64  \n",
      " 28  revol_util               39717 non-null  object \n",
      " 29  total_acc                39717 non-null  int64  \n",
      " 30  out_prncp                39717 non-null  float64\n",
      " 31  out_prncp_inv            39717 non-null  float64\n",
      " 32  total_pymnt              39717 non-null  float64\n",
      " 33  total_pymnt_inv          39717 non-null  float64\n",
      " 34  total_rec_prncp          39717 non-null  float64\n",
      " 35  total_rec_int            39717 non-null  float64\n",
      " 36  total_rec_late_fee       39717 non-null  float64\n",
      " 37  recoveries               39717 non-null  float64\n",
      " 38  collection_recovery_fee  39717 non-null  float64\n",
      " 39  last_credit_pull_d       39717 non-null  object \n",
      " 40  pub_rec_bankruptcies     39717 non-null  float64\n",
      "dtypes: float64(14), int64(10), object(17)\n",
      "memory usage: 12.4+ MB\n"
     ]
    }
   ],
   "source": [
    "df1.info()"
   ]
  },
  {
   "cell_type": "code",
   "execution_count": 62,
   "id": "9acfddca",
   "metadata": {},
   "outputs": [
    {
     "data": {
      "text/plain": [
       "id                             0\n",
       "member_id                      0\n",
       "loan_amnt                      0\n",
       "funded_amnt                    0\n",
       "funded_amnt_inv                0\n",
       "term                           0\n",
       "int_rate                       0\n",
       "installment                    0\n",
       "grade                          0\n",
       "sub_grade                      0\n",
       "emp_title                   2459\n",
       "emp_length                     0\n",
       "home_ownership                 0\n",
       "annual_inc                     0\n",
       "verification_status            0\n",
       "issue_d                        0\n",
       "loan_status                    0\n",
       "desc                       12940\n",
       "purpose                        0\n",
       "title                         11\n",
       "addr_state                     0\n",
       "dti                            0\n",
       "delinq_2yrs                    0\n",
       "earliest_cr_line               0\n",
       "inq_last_6mths                 0\n",
       "open_acc                       0\n",
       "pub_rec                        0\n",
       "revol_bal                      0\n",
       "revol_util                     0\n",
       "total_acc                      0\n",
       "out_prncp                      0\n",
       "out_prncp_inv                  0\n",
       "total_pymnt                    0\n",
       "total_pymnt_inv                0\n",
       "total_rec_prncp                0\n",
       "total_rec_int                  0\n",
       "total_rec_late_fee             0\n",
       "recoveries                     0\n",
       "collection_recovery_fee        0\n",
       "last_credit_pull_d             0\n",
       "pub_rec_bankruptcies           0\n",
       "dtype: int64"
      ]
     },
     "execution_count": 62,
     "metadata": {},
     "output_type": "execute_result"
    }
   ],
   "source": [
    "# Employee cleansning, 2 points addressed are replace blanks with 0 years and remove strings/years to mark it numeric data only. \n",
    "df1.loc[df1[\"emp_length\"].isnull(), (\"emp_length\")] = \"0 year\"\n",
    "df1.isnull().sum()"
   ]
  },
  {
   "cell_type": "code",
   "execution_count": 63,
   "id": "91d9eefb",
   "metadata": {},
   "outputs": [],
   "source": [
    "# Function to later perform strong operation on Employee Length \n",
    "def emp_len(x):\n",
    "    if x == \"10+ years\":\n",
    "        return 10\n",
    "    elif x == \"< 1 year\":\n",
    "        return 0\n",
    "    else:\n",
    "        return int(x.replace(\"years\",\"\").replace(\"year\", \"\").strip())"
   ]
  },
  {
   "cell_type": "code",
   "execution_count": 64,
   "id": "0809642c",
   "metadata": {},
   "outputs": [
    {
     "data": {
      "text/plain": [
       "0        10\n",
       "1         0\n",
       "2        10\n",
       "3        10\n",
       "4         1\n",
       "         ..\n",
       "39712     4\n",
       "39713     3\n",
       "39714     0\n",
       "39715     0\n",
       "39716     0\n",
       "Name: emp_length, Length: 39717, dtype: int64"
      ]
     },
     "execution_count": 64,
     "metadata": {},
     "output_type": "execute_result"
    }
   ],
   "source": [
    "#Edit employee length for describing the years of experience. \n",
    "df1[\"emp_length\"] = df1[\"emp_length\"].apply(lambda x: emp_len(x))\n",
    "df1[\"emp_length\"]"
   ]
  },
  {
   "cell_type": "code",
   "execution_count": 65,
   "id": "0651dac4",
   "metadata": {},
   "outputs": [
    {
     "data": {
      "image/png": "[encoded data removed]",
      "text/plain": [
       "<Figure size 640x480 with 1 Axes>"
      ]
     },
     "metadata": {},
     "output_type": "display_data"
    }
   ],
   "source": [
    "# Plot a boxplot of Annual income to view the outliers and then accrodingly take action. \n",
    "plt.boxplot(df1[\"annual_inc\"])\n",
    "plt.show()"
   ]
  },
  {
   "cell_type": "code",
   "execution_count": 66,
   "id": "5adfcf6d",
   "metadata": {},
   "outputs": [],
   "source": [
    "# Get a view of the Annual Income outliers\n",
    "df1 = df1[df1[\"annual_inc\"]<1000000]"
   ]
  },
  {
   "cell_type": "code",
   "execution_count": 67,
   "id": "5d800156",
   "metadata": {},
   "outputs": [
    {
     "data": {
      "image/png": "[encoded data removed]",
      "text/plain": [
       "<Figure size 640x480 with 1 Axes>"
      ]
     },
     "metadata": {},
     "output_type": "display_data"
    }
   ],
   "source": [
    "# View the box plot for income < 1000000\n",
    "plt.boxplot(df1[\"annual_inc\"])\n",
    "plt.show()"
   ]
  },
  {
   "cell_type": "code",
   "execution_count": 68,
   "id": "206cabe2",
   "metadata": {},
   "outputs": [],
   "source": [
    "# Since we have more outlier, get another view. \n",
    "df1 = df1[df1[\"annual_inc\"]<130000]"
   ]
  },
  {
   "cell_type": "code",
   "execution_count": 69,
   "id": "0a15b43e",
   "metadata": {},
   "outputs": [
    {
     "data": {
      "image/png": "[encoded data removed]",
      "text/plain": [
       "<Figure size 640x480 with 1 Axes>"
      ]
     },
     "metadata": {},
     "output_type": "display_data"
    }
   ],
   "source": [
    "# This looks good\n",
    "plt.boxplot(df1[\"annual_inc\"])\n",
    "plt.show()"
   ]
  },
  {
   "cell_type": "code",
   "execution_count": 70,
   "id": "c4001c07",
   "metadata": {},
   "outputs": [
    {
     "data": {
      "text/plain": [
       "count     36977.000000\n",
       "mean      59540.501073\n",
       "std       25975.139049\n",
       "min        4000.000000\n",
       "25%       40000.000000\n",
       "50%       55000.000000\n",
       "75%       75000.000000\n",
       "max      129996.000000\n",
       "Name: annual_inc, dtype: float64"
      ]
     },
     "execution_count": 70,
     "metadata": {},
     "output_type": "execute_result"
    }
   ],
   "source": [
    "# Verify median\n",
    "df1[\"annual_inc\"].describe()"
   ]
  },
  {
   "cell_type": "code",
   "execution_count": 71,
   "id": "d60c5849",
   "metadata": {},
   "outputs": [],
   "source": [
    "# Outlier Treatment for Annual Income\n",
    "df1.loc[df1[\"annual_inc\"]>=130000, (\"annual_inc\")] = 55000"
   ]
  },
  {
   "cell_type": "code",
   "execution_count": 72,
   "id": "6e74fc20",
   "metadata": {},
   "outputs": [
    {
     "data": {
      "image/png": "[encoded data removed]",
      "text/plain": [
       "<Figure size 640x480 with 1 Axes>"
      ]
     },
     "metadata": {},
     "output_type": "display_data"
    }
   ],
   "source": [
    "# Box plot for Annual Income\n",
    "plt.boxplot(df1[\"annual_inc\"])\n",
    "plt.show()"
   ]
  },
  {
   "cell_type": "code",
   "execution_count": 73,
   "id": "f6fc8f4b",
   "metadata": {},
   "outputs": [
    {
     "name": "stdout",
     "output_type": "stream",
     "text": [
      "<class 'pandas.core.frame.DataFrame'>\n",
      "Int64Index: 36977 entries, 0 to 39716\n",
      "Data columns (total 41 columns):\n",
      " #   Column                   Non-Null Count  Dtype  \n",
      "---  ------                   --------------  -----  \n",
      " 0   id                       36977 non-null  int64  \n",
      " 1   member_id                36977 non-null  int64  \n",
      " 2   loan_amnt                36977 non-null  int64  \n",
      " 3   funded_amnt              36977 non-null  int64  \n",
      " 4   funded_amnt_inv          36977 non-null  float64\n",
      " 5   term                     36977 non-null  object \n",
      " 6   int_rate                 36977 non-null  object \n",
      " 7   installment              36977 non-null  float64\n",
      " 8   grade                    36977 non-null  object \n",
      " 9   sub_grade                36977 non-null  object \n",
      " 10  emp_title                34751 non-null  object \n",
      " 11  emp_length               36977 non-null  int64  \n",
      " 12  home_ownership           36977 non-null  object \n",
      " 13  annual_inc               36977 non-null  float64\n",
      " 14  verification_status      36977 non-null  object \n",
      " 15  issue_d                  36977 non-null  object \n",
      " 16  loan_status              36977 non-null  object \n",
      " 17  desc                     24972 non-null  object \n",
      " 18  purpose                  36977 non-null  object \n",
      " 19  title                    36966 non-null  object \n",
      " 20  addr_state               36977 non-null  object \n",
      " 21  dti                      36977 non-null  float64\n",
      " 22  delinq_2yrs              36977 non-null  int64  \n",
      " 23  earliest_cr_line         36977 non-null  object \n",
      " 24  inq_last_6mths           36977 non-null  int64  \n",
      " 25  open_acc                 36977 non-null  int64  \n",
      " 26  pub_rec                  36977 non-null  int64  \n",
      " 27  revol_bal                36977 non-null  int64  \n",
      " 28  revol_util               36977 non-null  object \n",
      " 29  total_acc                36977 non-null  int64  \n",
      " 30  out_prncp                36977 non-null  float64\n",
      " 31  out_prncp_inv            36977 non-null  float64\n",
      " 32  total_pymnt              36977 non-null  float64\n",
      " 33  total_pymnt_inv          36977 non-null  float64\n",
      " 34  total_rec_prncp          36977 non-null  float64\n",
      " 35  total_rec_int            36977 non-null  float64\n",
      " 36  total_rec_late_fee       36977 non-null  float64\n",
      " 37  recoveries               36977 non-null  float64\n",
      " 38  collection_recovery_fee  36977 non-null  float64\n",
      " 39  last_credit_pull_d       36977 non-null  object \n",
      " 40  pub_rec_bankruptcies     36977 non-null  float64\n",
      "dtypes: float64(14), int64(11), object(16)\n",
      "memory usage: 11.8+ MB\n"
     ]
    }
   ],
   "source": [
    "df1.info()"
   ]
  },
  {
   "cell_type": "code",
   "execution_count": 74,
   "id": "cc8e6df2",
   "metadata": {},
   "outputs": [],
   "source": [
    "# Data treatment for Int_Rate - Remove %\n",
    "df1[\"int_rate\"] = df1[\"int_rate\"].apply(lambda x: float(x[:-1]))"
   ]
  },
  {
   "cell_type": "code",
   "execution_count": 75,
   "id": "7d7c97e6",
   "metadata": {},
   "outputs": [],
   "source": [
    "# Data Treatment for Revol_util - Remove % and convert to INT\n",
    "df1[\"revol_util\"] = df1[\"revol_util\"].apply(lambda x: float(x[:-1]))"
   ]
  },
  {
   "cell_type": "code",
   "execution_count": 76,
   "id": "a78c2ced",
   "metadata": {},
   "outputs": [],
   "source": [
    "# Terms number of months changed to contain only month and integer value\n",
    "df1[\"term\"] = df1[\"term\"].apply(lambda x: int(x.replace(\"months\", \"\").strip()))"
   ]
  },
  {
   "cell_type": "code",
   "execution_count": 77,
   "id": "09787768",
   "metadata": {},
   "outputs": [
    {
     "name": "stdout",
     "output_type": "stream",
     "text": [
      "<class 'pandas.core.frame.DataFrame'>\n",
      "Int64Index: 36977 entries, 0 to 39716\n",
      "Data columns (total 41 columns):\n",
      " #   Column                   Non-Null Count  Dtype  \n",
      "---  ------                   --------------  -----  \n",
      " 0   id                       36977 non-null  int64  \n",
      " 1   member_id                36977 non-null  int64  \n",
      " 2   loan_amnt                36977 non-null  int64  \n",
      " 3   funded_amnt              36977 non-null  int64  \n",
      " 4   funded_amnt_inv          36977 non-null  float64\n",
      " 5   term                     36977 non-null  int64  \n",
      " 6   int_rate                 36977 non-null  float64\n",
      " 7   installment              36977 non-null  float64\n",
      " 8   grade                    36977 non-null  object \n",
      " 9   sub_grade                36977 non-null  object \n",
      " 10  emp_title                34751 non-null  object \n",
      " 11  emp_length               36977 non-null  int64  \n",
      " 12  home_ownership           36977 non-null  object \n",
      " 13  annual_inc               36977 non-null  float64\n",
      " 14  verification_status      36977 non-null  object \n",
      " 15  issue_d                  36977 non-null  object \n",
      " 16  loan_status              36977 non-null  object \n",
      " 17  desc                     24972 non-null  object \n",
      " 18  purpose                  36977 non-null  object \n",
      " 19  title                    36966 non-null  object \n",
      " 20  addr_state               36977 non-null  object \n",
      " 21  dti                      36977 non-null  float64\n",
      " 22  delinq_2yrs              36977 non-null  int64  \n",
      " 23  earliest_cr_line         36977 non-null  object \n",
      " 24  inq_last_6mths           36977 non-null  int64  \n",
      " 25  open_acc                 36977 non-null  int64  \n",
      " 26  pub_rec                  36977 non-null  int64  \n",
      " 27  revol_bal                36977 non-null  int64  \n",
      " 28  revol_util               36977 non-null  float64\n",
      " 29  total_acc                36977 non-null  int64  \n",
      " 30  out_prncp                36977 non-null  float64\n",
      " 31  out_prncp_inv            36977 non-null  float64\n",
      " 32  total_pymnt              36977 non-null  float64\n",
      " 33  total_pymnt_inv          36977 non-null  float64\n",
      " 34  total_rec_prncp          36977 non-null  float64\n",
      " 35  total_rec_int            36977 non-null  float64\n",
      " 36  total_rec_late_fee       36977 non-null  float64\n",
      " 37  recoveries               36977 non-null  float64\n",
      " 38  collection_recovery_fee  36977 non-null  float64\n",
      " 39  last_credit_pull_d       36977 non-null  object \n",
      " 40  pub_rec_bankruptcies     36977 non-null  float64\n",
      "dtypes: float64(16), int64(12), object(13)\n",
      "memory usage: 11.8+ MB\n"
     ]
    }
   ],
   "source": [
    "df1.info()"
   ]
  },
  {
   "cell_type": "code",
   "execution_count": 78,
   "id": "507df16f",
   "metadata": {},
   "outputs": [
    {
     "data": {
      "text/plain": [
       "0        Dec-11\n",
       "1        Dec-11\n",
       "2        Dec-11\n",
       "3        Dec-11\n",
       "4        Dec-11\n",
       "          ...  \n",
       "39711    Jul-07\n",
       "39712    Jul-07\n",
       "39713    Jul-07\n",
       "39714    Jul-07\n",
       "39716    Jun-07\n",
       "Name: issue_d, Length: 36977, dtype: object"
      ]
     },
     "execution_count": 78,
     "metadata": {},
     "output_type": "execute_result"
    }
   ],
   "source": [
    "df1[\"issue_d\"]"
   ]
  },
  {
   "cell_type": "code",
   "execution_count": 79,
   "id": "7a959fc2",
   "metadata": {},
   "outputs": [],
   "source": [
    "df1[\"issue_d\"] = df1[\"issue_d\"].apply(lambda x: x + \"-2023\")"
   ]
  },
  {
   "cell_type": "code",
   "execution_count": 80,
   "id": "8f01ed62",
   "metadata": {},
   "outputs": [],
   "source": [
    "issue_date = pd.to_datetime(df1[\"issue_d\"])\n",
    "df1[\"issue_month\"] = issue_date.dt.month\n",
    "df1[\"issue_year\"] = issue_date.dt.year\n",
    "\n",
    "df1[\"term_in_years\"] = pd.to_datetime(df1[\"issue_d\"]).dt.month"
   ]
  },
  {
   "cell_type": "code",
   "execution_count": 81,
   "id": "3371978d",
   "metadata": {},
   "outputs": [],
   "source": [
    "df1[\"last_credit_pull_d\"] = df1[\"last_credit_pull_d\"].apply(lambda x: x + \"-2023\")"
   ]
  },
  {
   "cell_type": "code",
   "execution_count": 82,
   "id": "d7091d0e",
   "metadata": {},
   "outputs": [],
   "source": [
    "last_credit_pull_date = pd.to_datetime(df1[\"last_credit_pull_d\"])\n",
    "df1[\"last_credit_pull_month\"] = last_credit_pull_date.dt.month\n",
    "df1[\"last_credit_pull_year\"] = last_credit_pull_date.dt.year"
   ]
  },
  {
   "cell_type": "code",
   "execution_count": 83,
   "id": "c75bb11b",
   "metadata": {},
   "outputs": [],
   "source": [
    "earliest_cr_line_date = pd.to_datetime(df1[\"earliest_cr_line\"], format=\"%b-%y\")\n",
    "df1[\"earliest_cr_line_month\"] = earliest_cr_line_date.dt.month\n",
    "df1[\"earliest_cr_line_year\"] = earliest_cr_line_date.dt.year"
   ]
  },
  {
   "cell_type": "code",
   "execution_count": 84,
   "id": "d415b121",
   "metadata": {},
   "outputs": [],
   "source": [
    "# Data Clean up for Purpose column\n",
    "# For values \"Other\" - Derive the correct value based on Desc and Title column. \n",
    "# For Example: we have Purpose = \"Other\", Title = \"Loan consolidation\" and Desc = \"Repay another loan\". In this case replace purpose with \"Debt Consolidation\"\n",
    "unique_purposes = df1.purpose.unique()"
   ]
  },
  {
   "cell_type": "code",
   "execution_count": 85,
   "id": "c0159882",
   "metadata": {},
   "outputs": [],
   "source": [
    "def purpose(x):\n",
    "    print(x)\n",
    "    if \"car\" in x.lower() or \"motorcycle\" in x.lower() or \"auto\" in x.lower():\n",
    "        return \"car\"\n",
    "    elif \"loan\" in x.lower() and \"credit card\" in x.lower() or \"credit card\" in x.lower() or \"cc\" in x.lower():\n",
    "        return \"credit_card\"\n",
    "    elif \"home\" in x.lower() or \"house\" in x.lower():\n",
    "        return \"home_improvement\"\n",
    "    elif \"loan\" in x.lower() or \"personal\" in x.lower() or \"consolidation\" in x.lower():\n",
    "        return \"debt_consolidation\"\n",
    "    elif \"care\" in x.lower() or \"surgery\" in x.lower():\n",
    "        return \"medical\"\n",
    "    elif \"vacation\" in x.lower():\n",
    "        return \"vacation\""
   ]
  },
  {
   "cell_type": "code",
   "execution_count": 86,
   "id": "3781a77e",
   "metadata": {},
   "outputs": [],
   "source": [
    "df1['derived_purpose'] = df1.title.where(df1.purpose == \"other\", df1.purpose)"
   ]
  },
  {
   "cell_type": "code",
   "execution_count": 91,
   "id": "7660b976",
   "metadata": {
    "scrolled": false
   },
   "outputs": [],
   "source": [
    "#df1.derived_purpose = df1.derived_purpose.apply(lambda x: purpose(x)) # getting error for this line - will work tomorrow on this"
   ]
  },
  {
   "cell_type": "code",
   "execution_count": 92,
   "id": "6682ee43",
   "metadata": {},
   "outputs": [],
   "source": [
    "#df1.to_csv('output.csv')"
   ]
  },
  {
   "cell_type": "markdown",
   "id": "dfff12fa",
   "metadata": {},
   "source": [
    "# Step 2: UniVariate Analysis"
   ]
  },
  {
   "cell_type": "code",
   "execution_count": 111,
   "id": "467c1417",
   "metadata": {},
   "outputs": [
    {
     "name": "stdout",
     "output_type": "stream",
     "text": [
      "Univariate Graph 1\n"
     ]
    },
    {
     "data": {
      "image/png": "[encoded data removed]",
      "text/plain": [
       "<Figure size 640x480 with 1 Axes>"
      ]
     },
     "metadata": {},
     "output_type": "display_data"
    },
    {
     "data": {
      "image/png": "[encoded data removed]",
      "text/plain": [
       "<Figure size 640x480 with 1 Axes>"
      ]
     },
     "metadata": {},
     "output_type": "display_data"
    }
   ],
   "source": [
    "print(\"Univariate Graph 1\")\n",
    "# Employee Length vs Average Loan_amnt. Bar Chart\n",
    "# 2 Graphs next to each other. One with Charged off, and next with Current+Fully Paid\n",
    "\n",
    "tempdf = df1[['emp_length', 'annual_inc']].groupby(['emp_length'], as_index=False).mean()\n",
    "tempdf.sort_values(by='emp_length', ascending=False, inplace=True)\n",
    "sns.barplot(x='emp_length', y = 'annual_inc', data = tempdf)\n",
    "plt.title('Employee vs Annual Income\\n',fontdict={'fontsize': 10, 'fontweight' : 5, 'color' : 'Red'} )\n",
    "plt.xlabel('Employee Length')\n",
    "plt.ylabel('Annual Income')\n",
    "plt.xticks(rotation=45, ha='right')\n",
    "plt.show()\n",
    "\n",
    "tempdf1 = df1[df1[\"loan_status\"] == \"Charged Off\"]\n",
    "tempdf2 = tempdf1[['emp_length', 'annual_inc']].groupby(['emp_length'], as_index=False).mean()\n",
    "tempdf2.sort_values(by='emp_length', ascending=False, inplace=True)\n",
    "sns.barplot(x='emp_length', y = 'annual_inc', data = tempdf2)\n",
    "plt.title('Employee vs Annual Income for Charged Off\\n',fontdict={'fontsize': 10, 'fontweight' : 5, 'color' : 'Red'} )\n",
    "plt.xlabel('Employee Length')\n",
    "plt.ylabel('Annual Income')\n",
    "plt.xticks(rotation=45, ha='right')\n",
    "plt.show()\n",
    "\n",
    "# Observation - \n",
    "# 1. For all 3 loan status (Current, Charged off and Fully paisd), the average annual income is increasing with the Employee Length.\n",
    "# 2. For Loan Status - Charged Off, the average annual income is lower compared to all other Loan status considered. "
   ]
  },
  {
   "cell_type": "code",
   "execution_count": null,
   "id": "ee3a2c40",
   "metadata": {},
   "outputs": [],
   "source": [
    "print(\"Univariate Graph 2\")\n",
    "# Average Loan_amnt. Box Plot\n",
    "# 2 Graphs next to each other. One with Charged off, and next with Current+Fully Paid"
   ]
  },
  {
   "cell_type": "code",
   "execution_count": null,
   "id": "d34de57f",
   "metadata": {},
   "outputs": [],
   "source": [
    "print(\"Univariate Graph 3\")\n",
    "# Purpose (Derived Purpose) vs Derived Purpose count. Bar Chart\n",
    "# 2 Graphs next to each other. One with Charged off, and next with Current+Fully Paid"
   ]
  },
  {
   "cell_type": "code",
   "execution_count": null,
   "id": "04e7c05e",
   "metadata": {},
   "outputs": [],
   "source": [
    "print(\"Univariate Graph 4\")\n",
    "# Pie Chart of Purpose (Derived Purpose) \n",
    "# 2 Graphs next to each other. One with Charged off, and next with Current+Fully Paid"
   ]
  },
  {
   "cell_type": "code",
   "execution_count": null,
   "id": "a44b1347",
   "metadata": {},
   "outputs": [],
   "source": [
    "print(\"Univariate Graph 5\")\n",
    "# Pie Chart of State \n",
    "# 2 Graphs next to each other. One with Charged off, and next with Current+Fully Paid"
   ]
  },
  {
   "cell_type": "code",
   "execution_count": null,
   "id": "8a529cf3",
   "metadata": {},
   "outputs": [],
   "source": [
    "print(\"Univariate Graph 6\")\n",
    "# Histo Graph of total_acc  \n",
    "# 2 Graphs next to each other. One with Charged off, and next with Current+Fully Paid"
   ]
  },
  {
   "cell_type": "code",
   "execution_count": 115,
   "id": "777fb4a5",
   "metadata": {},
   "outputs": [
    {
     "name": "stdout",
     "output_type": "stream",
     "text": [
      "UniVariate Graph 7\n"
     ]
    },
    {
     "data": {
      "image/png": "[encoded data removed]",
      "text/plain": [
       "<Figure size 1000x500 with 2 Axes>"
      ]
     },
     "metadata": {},
     "output_type": "display_data"
    }
   ],
   "source": [
    "print(\"UniVariate Graph 7\")\n",
    "# Correlation graph on columns loan_amnt, funded_amnt, term, emp_length, annual_inc, open_acc, total_acc\n",
    "\n",
    "corrdf = df1[['loan_amnt','funded_amnt','term','emp_length','annual_inc','open_acc', 'total_acc']].corr()\n",
    "corrdf\n",
    "plt.figure(figsize=[10,5])\n",
    "sns.heatmap(corrdf, cmap=\"YlGnBu\", annot = True)\n",
    "plt.title('Correlation - All Loan Applications\\n', fontdict={'fontsize': 20, 'fontweight' : 5, 'color' : 'Blue'})\n",
    "plt.show()\n",
    "\n",
    "# Observation - Unable to derive correlation across numerical data.  "
   ]
  },
  {
   "cell_type": "markdown",
   "id": "19f7b00c",
   "metadata": {},
   "source": [
    "# Step 3: BiVariate Analysis"
   ]
  },
  {
   "cell_type": "code",
   "execution_count": 101,
   "id": "65a2a85f",
   "metadata": {},
   "outputs": [
    {
     "name": "stdout",
     "output_type": "stream",
     "text": [
      "BiVariate Graph 1\n"
     ]
    }
   ],
   "source": [
    "print(\"BiVariate Graph 1\")\n",
    "# Bar graph or Box plot of Term (36, 60)  - Box plot of annual_inc for 36 Term, and box plot of Annal income for 60 Term\n"
   ]
  }
 ],
 "metadata": {
  "kernelspec": {
   "display_name": "Python 3 (ipykernel)",
   "language": "python",
   "name": "python3"
  },
  "language_info": {
   "codemirror_mode": {
    "name": "ipython",
    "version": 3
   },
   "file_extension": ".py",
   "mimetype": "text/x-python",
   "name": "python",
   "nbconvert_exporter": "python",
   "pygments_lexer": "ipython3",
   "version": "3.10.9"
  }
 },
 "nbformat": 4,
 "nbformat_minor": 5
}
